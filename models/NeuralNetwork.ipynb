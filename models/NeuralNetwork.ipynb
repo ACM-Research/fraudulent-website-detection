{
  "nbformat": 4,
  "nbformat_minor": 0,
  "metadata": {
    "colab": {
      "name": "NeuralNetwork.ipynb",
      "provenance": [],
      "collapsed_sections": [],
      "include_colab_link": true
    },
    "kernelspec": {
      "name": "python3",
      "display_name": "Python 3"
    },
    "language_info": {
      "name": "python"
    }
  },
  "cells": [
    {
      "cell_type": "markdown",
      "metadata": {
        "id": "view-in-github",
        "colab_type": "text"
      },
      "source": [
        "<a href=\"https://colab.research.google.com/github/ACM-Research/fraudulent-website-detection/blob/main/NeuralNetwork.ipynb\" target=\"_parent\"><img src=\"https://colab.research.google.com/assets/colab-badge.svg\" alt=\"Open In Colab\"/></a>"
      ]
    },
    {
      "cell_type": "code",
      "metadata": {
        "id": "bt88WGh6Wq_F"
      },
      "source": [
        "# Import our data here\n",
        "import keras\n",
        "import pandas as pd\n",
        "import numpy as np\n",
        "import string\n",
        "import re\n",
        "import tensorflow as tf\n",
        "\n",
        "from keras.layers import LSTM, Activation, Dropout, Dense, Input, Conv1D, MaxPooling1D, GlobalMaxPooling1D\n",
        "from keras.layers.embeddings import Embedding\n",
        "from keras.models import Model\n",
        "from keras.preprocessing.text import Tokenizer\n",
        "from keras.preprocessing.sequence import pad_sequences\n",
        "from sklearn.preprocessing import LabelBinarizer\n",
        "from sklearn.model_selection import train_test_split\n",
        "from tensorflow.keras.utils import plot_model\n",
        "\n",
        "# Read the data in\n",
        "df = pd.read_csv(\"sample2.csv\")\n",
        "url_list = df.url\n",
        "classif_list = df.type"
      ],
      "execution_count": null,
      "outputs": []
    },
    {
      "cell_type": "code",
      "metadata": {
        "id": "_w5nzCOYhTwV"
      },
      "source": [
        "y = np.array(list(map(lambda x: 0 if x==\"benign\" else 1, classif_list)))\n",
        "\n",
        "X_train, X_test, Y_train, Y_test = train_test_split(url_list, y, test_size = 0.3, random_state = 45)"
      ],
      "execution_count": null,
      "outputs": []
    },
    {
      "cell_type": "code",
      "metadata": {
        "id": "aNiX_BR3jLhQ"
      },
      "source": [
        "tokenizer = Tokenizer(num_words=5000)\n",
        "tokenizer.fit_on_texts(X_train)\n",
        "\n",
        "words_to_index = tokenizer.word_index"
      ],
      "execution_count": null,
      "outputs": []
    },
    {
      "cell_type": "code",
      "metadata": {
        "id": "c8uN5RMHju1y"
      },
      "source": [
        "def read_glove_vector(glove_vec):\n",
        "  with open(glove_vec, 'r', encoding='UTF-8') as f:\n",
        "    words = set()\n",
        "    word_to_vec_map = {}\n",
        "    for line in f:\n",
        "      w_line = line.split()\n",
        "      curr_word = w_line[0]\n",
        "      word_to_vec_map[curr_word] = np.array(w_line[1:], dtype=np.float64)\n",
        "\n",
        "  return word_to_vec_map"
      ],
      "execution_count": null,
      "outputs": []
    },
    {
      "cell_type": "code",
      "metadata": {
        "id": "kYMJ20yZkMoa"
      },
      "source": [
        "wMap = read_glove_vector('glove.6B.50d.txt')\n",
        "maxLen = 250"
      ],
      "execution_count": null,
      "outputs": []
    },
    {
      "cell_type": "code",
      "metadata": {
        "id": "Q3xkJnBX5dWj"
      },
      "source": [
        "vocab_len = len(words_to_index) + 1\n",
        "embed_vector_len = wMap['moon'].shape[0]\n",
        "\n",
        "emb_matrix = np.zeros((vocab_len, embed_vector_len))\n",
        "\n",
        "for word, index in words_to_index.items():\n",
        "  embedding_vector = wMap.get(word)\n",
        "  if embedding_vector is not None:\n",
        "    emb_matrix[index, :] = embedding_vector\n",
        "\n",
        "embedding_layer = Embedding(input_dim=vocab_len, output_dim=embed_vector_len, input_length=maxLen, weights=[emb_matrix], trainable = False)\n"
      ],
      "execution_count": null,
      "outputs": []
    },
    {
      "cell_type": "code",
      "metadata": {
        "id": "LiIcHXx90euu"
      },
      "source": [
        "def conv_rating(input_shape):\n",
        "  X_indices = Input(input_shape)\n",
        "  embeddings = embedding_layer(X_indices)\n",
        "\n",
        "  X = Conv1D(512,3,activation='relu')(embeddings)\n",
        "  X = MaxPooling1D(3)(X)\n",
        "\n",
        "  X = Conv1D(256,3,activation='relu')(X)\n",
        "  X = MaxPooling1D(3)(X)\n",
        "\n",
        "  X = Conv1D(256,3,activation='relu')(X)\n",
        "  X = Dropout(0.8)(X)\n",
        "\n",
        "  X = MaxPooling1D(3)(X)\n",
        "  X = GlobalMaxPooling1D()(X)\n",
        "\n",
        "  X = Dense(256, activation='relu')(X)\n",
        "  X = Dense(1, activation='sigmoid')(X)\n",
        "\n",
        "  model = Model(inputs=X_indices, outputs=X)\n",
        "\n",
        "  return model"
      ],
      "execution_count": null,
      "outputs": []
    },
    {
      "cell_type": "code",
      "metadata": {
        "colab": {
          "base_uri": "https://localhost:8080/"
        },
        "id": "2Um2E_bD01bv",
        "outputId": "5a0c5127-4c95-4b49-b567-600023be1530"
      },
      "source": [
        "model_conv = conv_rating((maxLen,))\n",
        "model_conv.summary()"
      ],
      "execution_count": null,
      "outputs": [
        {
          "output_type": "stream",
          "name": "stdout",
          "text": [
            "Model: \"model\"\n",
            "_________________________________________________________________\n",
            " Layer (type)                Output Shape              Param #   \n",
            "=================================================================\n",
            " input_1 (InputLayer)        [(None, 250)]             0         \n",
            "                                                                 \n",
            " embedding (Embedding)       (None, 250, 50)           544700    \n",
            "                                                                 \n",
            " conv1d (Conv1D)             (None, 248, 512)          77312     \n",
            "                                                                 \n",
            " max_pooling1d (MaxPooling1D  (None, 82, 512)          0         \n",
            " )                                                               \n",
            "                                                                 \n",
            " conv1d_1 (Conv1D)           (None, 80, 256)           393472    \n",
            "                                                                 \n",
            " max_pooling1d_1 (MaxPooling  (None, 26, 256)          0         \n",
            " 1D)                                                             \n",
            "                                                                 \n",
            " conv1d_2 (Conv1D)           (None, 24, 256)           196864    \n",
            "                                                                 \n",
            " dropout (Dropout)           (None, 24, 256)           0         \n",
            "                                                                 \n",
            " max_pooling1d_2 (MaxPooling  (None, 8, 256)           0         \n",
            " 1D)                                                             \n",
            "                                                                 \n",
            " global_max_pooling1d (Globa  (None, 256)              0         \n",
            " lMaxPooling1D)                                                  \n",
            "                                                                 \n",
            " dense (Dense)               (None, 256)               65792     \n",
            "                                                                 \n",
            " dense_1 (Dense)             (None, 1)                 257       \n",
            "                                                                 \n",
            "=================================================================\n",
            "Total params: 1,278,397\n",
            "Trainable params: 733,697\n",
            "Non-trainable params: 544,700\n",
            "_________________________________________________________________\n"
          ]
        }
      ]
    },
    {
      "cell_type": "code",
      "metadata": {
        "colab": {
          "base_uri": "https://localhost:8080/",
          "height": 1000
        },
        "id": "Dx081BRvMHFl",
        "outputId": "48f3740a-33d7-4e00-a379-6b3d11abceef"
      },
      "source": [
        "plot_model(model_conv, to_file='model.png')"
      ],
      "execution_count": null,
      "outputs": [
        {
          "output_type": "execute_result",
          "data": {
            "image/png": "[encoded data removed]",
            "text/plain": [
              "<IPython.core.display.Image object>"
            ]
          },
          "metadata": {},
          "execution_count": 9
        }
      ]
    },
    {
      "cell_type": "code",
      "metadata": {
        "colab": {
          "base_uri": "https://localhost:8080/"
        },
        "id": "Gebia-IV7BAi",
        "outputId": "a2775ee7-467c-40d6-e300-f9aef921763c"
      },
      "source": [
        "X_train_indices = tokenizer.texts_to_sequences(X_train)\n",
        "\n",
        "X_train_indices = pad_sequences(X_train_indices, maxlen=250, padding='post')\n",
        "X_train_indices.shape"
      ],
      "execution_count": null,
      "outputs": [
        {
          "output_type": "execute_result",
          "data": {
            "text/plain": [
              "(3499, 250)"
            ]
          },
          "metadata": {},
          "execution_count": 10
        }
      ]
    },
    {
      "cell_type": "code",
      "metadata": {
        "colab": {
          "base_uri": "https://localhost:8080/",
          "height": 419
        },
        "id": "_q4PtSA7-1Te",
        "outputId": "5eb9be20-5b92-43b6-99a3-ddb877f73499"
      },
      "source": [
        "pd.DataFrame(X_train)"
      ],
      "execution_count": null,
      "outputs": [
        {
          "output_type": "execute_result",
          "data": {
            "text/html": [
              "<div>\n",
              "<style scoped>\n",
              "    .dataframe tbody tr th:only-of-type {\n",
              "        vertical-align: middle;\n",
              "    }\n",
              "\n",
              "    .dataframe tbody tr th {\n",
              "        vertical-align: top;\n",
              "    }\n",
              "\n",
              "    .dataframe thead th {\n",
              "        text-align: right;\n",
              "    }\n",
              "</style>\n",
              "<table border=\"1\" class=\"dataframe\">\n",
              "  <thead>\n",
              "    <tr style=\"text-align: right;\">\n",
              "      <th></th>\n",
              "      <th>url</th>\n",
              "    </tr>\n",
              "  </thead>\n",
              "  <tbody>\n",
              "    <tr>\n",
              "      <th>3780</th>\n",
              "      <td>http://techcrunch.com/2015/03/13/this-week-on-...</td>\n",
              "    </tr>\n",
              "    <tr>\n",
              "      <th>780</th>\n",
              "      <td>starpacintl.com</td>\n",
              "    </tr>\n",
              "    <tr>\n",
              "      <th>1679</th>\n",
              "      <td>allmusic.com/artist/dru-down-p45143</td>\n",
              "    </tr>\n",
              "    <tr>\n",
              "      <th>1316</th>\n",
              "      <td>blackle.com/</td>\n",
              "    </tr>\n",
              "    <tr>\n",
              "      <th>2695</th>\n",
              "      <td>websenti.u707.jussieu.fr/sentiweb/?rub=37</td>\n",
              "    </tr>\n",
              "    <tr>\n",
              "      <th>...</th>\n",
              "      <td>...</td>\n",
              "    </tr>\n",
              "    <tr>\n",
              "      <th>4473</th>\n",
              "      <td>icehockey.wikia.com/wiki/2010_IIHF_World_Champ...</td>\n",
              "    </tr>\n",
              "    <tr>\n",
              "      <th>580</th>\n",
              "      <td>youtube.com/watch?v=093nXYvngLc</td>\n",
              "    </tr>\n",
              "    <tr>\n",
              "      <th>163</th>\n",
              "      <td>http://www.vanoorschotkranen.nl/hoogwerker/hoo...</td>\n",
              "    </tr>\n",
              "    <tr>\n",
              "      <th>4703</th>\n",
              "      <td>askbiography.com/bio/Peter_Hansen_(actor).html</td>\n",
              "    </tr>\n",
              "    <tr>\n",
              "      <th>3616</th>\n",
              "      <td>ourbis.ca/51089-ferme-mont-bruno-inc-saint-bru...</td>\n",
              "    </tr>\n",
              "  </tbody>\n",
              "</table>\n",
              "<p>3499 rows × 1 columns</p>\n",
              "</div>"
            ],
            "text/plain": [
              "                                                    url\n",
              "3780  http://techcrunch.com/2015/03/13/this-week-on-...\n",
              "780                                     starpacintl.com\n",
              "1679                allmusic.com/artist/dru-down-p45143\n",
              "1316                                       blackle.com/\n",
              "2695          websenti.u707.jussieu.fr/sentiweb/?rub=37\n",
              "...                                                 ...\n",
              "4473  icehockey.wikia.com/wiki/2010_IIHF_World_Champ...\n",
              "580                     youtube.com/watch?v=093nXYvngLc\n",
              "163   http://www.vanoorschotkranen.nl/hoogwerker/hoo...\n",
              "4703     askbiography.com/bio/Peter_Hansen_(actor).html\n",
              "3616  ourbis.ca/51089-ferme-mont-bruno-inc-saint-bru...\n",
              "\n",
              "[3499 rows x 1 columns]"
            ]
          },
          "metadata": {},
          "execution_count": 11
        }
      ]
    },
    {
      "cell_type": "code",
      "metadata": {
        "colab": {
          "base_uri": "https://localhost:8080/"
        },
        "id": "bo6zwssP1duX",
        "outputId": "8d92f43e-afb7-46db-fe73-e5c37bf19b57"
      },
      "source": [
        "adam = tf.keras.optimizers.Adam(learning_rate = 0.0001)\n",
        "model_conv.compile(optimizer=adam, loss='binary_crossentropy', metrics=['accuracy'])\n",
        "\n",
        "model_conv.fit(X_train_indices, Y_train, batch_size=64, epochs=30)"
      ],
      "execution_count": null,
      "outputs": [
        {
          "output_type": "stream",
          "name": "stdout",
          "text": [
            "Epoch 1/30\n",
            "55/55 [==============================] - 29s 510ms/step - loss: 0.5879 - accuracy: 0.7185\n",
            "Epoch 2/30\n",
            "55/55 [==============================] - 28s 510ms/step - loss: 0.4043 - accuracy: 0.8260\n",
            "Epoch 3/30\n",
            "55/55 [==============================] - 28s 512ms/step - loss: 0.2906 - accuracy: 0.8917\n",
            "Epoch 4/30\n",
            "55/55 [==============================] - 28s 511ms/step - loss: 0.2359 - accuracy: 0.9185\n",
            "Epoch 5/30\n",
            "55/55 [==============================] - 28s 510ms/step - loss: 0.1870 - accuracy: 0.9308\n",
            "Epoch 6/30\n",
            "55/55 [==============================] - 30s 544ms/step - loss: 0.1654 - accuracy: 0.9377\n",
            "Epoch 7/30\n",
            "55/55 [==============================] - 28s 513ms/step - loss: 0.1460 - accuracy: 0.9457\n",
            "Epoch 8/30\n",
            "55/55 [==============================] - 28s 512ms/step - loss: 0.1370 - accuracy: 0.9474\n",
            "Epoch 9/30\n",
            "55/55 [==============================] - 28s 512ms/step - loss: 0.1174 - accuracy: 0.9566\n",
            "Epoch 10/30\n",
            "55/55 [==============================] - 28s 513ms/step - loss: 0.1096 - accuracy: 0.9588\n",
            "Epoch 11/30\n",
            "55/55 [==============================] - 28s 515ms/step - loss: 0.1010 - accuracy: 0.9637\n",
            "Epoch 12/30\n",
            "55/55 [==============================] - 28s 513ms/step - loss: 0.0910 - accuracy: 0.9643\n",
            "Epoch 13/30\n",
            "55/55 [==============================] - 28s 513ms/step - loss: 0.0892 - accuracy: 0.9680\n",
            "Epoch 14/30\n",
            "55/55 [==============================] - 28s 510ms/step - loss: 0.0826 - accuracy: 0.9731\n",
            "Epoch 15/30\n",
            "55/55 [==============================] - 28s 513ms/step - loss: 0.0756 - accuracy: 0.9737\n",
            "Epoch 16/30\n",
            "55/55 [==============================] - 28s 515ms/step - loss: 0.0763 - accuracy: 0.9734\n",
            "Epoch 17/30\n",
            "55/55 [==============================] - 28s 516ms/step - loss: 0.0720 - accuracy: 0.9757\n",
            "Epoch 18/30\n",
            "55/55 [==============================] - 28s 511ms/step - loss: 0.0683 - accuracy: 0.9766\n",
            "Epoch 19/30\n",
            "55/55 [==============================] - 28s 514ms/step - loss: 0.0672 - accuracy: 0.9766\n",
            "Epoch 20/30\n",
            "55/55 [==============================] - 28s 516ms/step - loss: 0.0669 - accuracy: 0.9754\n",
            "Epoch 21/30\n",
            "55/55 [==============================] - 28s 516ms/step - loss: 0.0631 - accuracy: 0.9766\n",
            "Epoch 22/30\n",
            "55/55 [==============================] - 28s 514ms/step - loss: 0.0617 - accuracy: 0.9800\n",
            "Epoch 23/30\n",
            "55/55 [==============================] - 28s 512ms/step - loss: 0.0589 - accuracy: 0.9791\n",
            "Epoch 24/30\n",
            "55/55 [==============================] - 28s 512ms/step - loss: 0.0622 - accuracy: 0.9791\n",
            "Epoch 25/30\n",
            "55/55 [==============================] - 28s 513ms/step - loss: 0.0568 - accuracy: 0.9791\n",
            "Epoch 26/30\n",
            "55/55 [==============================] - 28s 513ms/step - loss: 0.0547 - accuracy: 0.9809\n",
            "Epoch 27/30\n",
            "55/55 [==============================] - 28s 512ms/step - loss: 0.0557 - accuracy: 0.9794\n",
            "Epoch 28/30\n",
            "55/55 [==============================] - 28s 514ms/step - loss: 0.0568 - accuracy: 0.9797\n",
            "Epoch 29/30\n",
            "55/55 [==============================] - 28s 511ms/step - loss: 0.0561 - accuracy: 0.9783\n",
            "Epoch 30/30\n",
            "55/55 [==============================] - 28s 514ms/step - loss: 0.0584 - accuracy: 0.9780\n"
          ]
        },
        {
          "output_type": "execute_result",
          "data": {
            "text/plain": [
              "<keras.callbacks.History at 0x7f5dc20ba590>"
            ]
          },
          "metadata": {},
          "execution_count": 12
        }
      ]
    },
    {
      "cell_type": "code",
      "metadata": {
        "id": "OQOycX9JR9QP"
      },
      "source": [
        "X_test_indices = tokenizer.texts_to_sequences(X_test)\n",
        "\n",
        "X_test_indices = pad_sequences(X_test_indices, maxlen=maxLen, padding='post')"
      ],
      "execution_count": null,
      "outputs": []
    },
    {
      "cell_type": "code",
      "metadata": {
        "colab": {
          "base_uri": "https://localhost:8080/"
        },
        "id": "pFdBPIYkSB8l",
        "outputId": "1ecaeb41-e906-4fd1-d618-b3a969b2829d"
      },
      "source": [
        "model_conv.evaluate(X_test_indices, Y_test)"
      ],
      "execution_count": null,
      "outputs": [
        {
          "output_type": "stream",
          "name": "stdout",
          "text": [
            "47/47 [==============================] - 4s 72ms/step - loss: 0.1687 - accuracy: 0.9487\n"
          ]
        },
        {
          "output_type": "execute_result",
          "data": {
            "text/plain": [
              "[0.1687009036540985, 0.9486666917800903]"
            ]
          },
          "metadata": {},
          "execution_count": 14
        }
      ]
    },
    {
      "cell_type": "code",
      "metadata": {
        "colab": {
          "base_uri": "https://localhost:8080/"
        },
        "id": "TkOaMVguecBn",
        "outputId": "d1aba2cb-1f4f-4a07-9055-85907b3953d8"
      },
      "source": [
        "from sklearn.metrics import roc_auc_score\n",
        "from sklearn.metrics import precision_score\n",
        "from sklearn.metrics import f1_score\n",
        "\n",
        "print(roc_auc_score(Y_test,model_conv.predict(X_test_indices)))\n",
        "\n",
        "yy = model_conv.predict(X_test_indices)\n",
        "#print(yy)\n",
        "for i in range(yy.size):\n",
        "  if(yy[i]<.5):\n",
        "    yy[i]=0\n",
        "  else:\n",
        "    yy[i]=1\n",
        "print(precision_score(Y_test,yy))\n",
        "print(\"F1:\")\n",
        "print(f1_score(Y_test,yy))"
      ],
      "execution_count": null,
      "outputs": [
        {
          "output_type": "stream",
          "name": "stdout",
          "text": [
            "0.9789074248120301\n",
            "0.9469026548672567\n",
            "F1:\n",
            "0.8929068150208622\n"
          ]
        }
      ]
    },
    {
      "cell_type": "code",
      "metadata": {
        "id": "XfEb9KvRSDro",
        "colab": {
          "base_uri": "https://localhost:8080/"
        },
        "outputId": "d21938bf-3b80-4049-8c69-717065d1fe65"
      },
      "source": [
        "from sklearn.metrics import recall_score\n",
        "from sklearn.metrics import classification_report, confusion_matrix\n",
        "\n",
        "preds = model_conv.predict(X_test_indices)\n",
        "print(\"Recall:\")\n",
        "print(recall_score(Y_test, yy))\n",
        "#print(classification_report(Y_test, model_conv.predict(X_test_indices)))"
      ],
      "execution_count": null,
      "outputs": [
        {
          "output_type": "stream",
          "name": "stdout",
          "text": [
            "Recall:\n",
            "0.8342105263157895\n"
          ]
        }
      ]
    },
    {
      "cell_type": "code",
      "metadata": {
        "colab": {
          "base_uri": "https://localhost:8080/"
        },
        "id": "_6PUi0R1SU6s",
        "outputId": "0c420c69-7145-4eef-bd86-df01cd3cef0a"
      },
      "source": [
        "n = np.random.randint(0,1500)\n",
        "\n",
        "if preds[n] >= 0.5:\n",
        "  print('Website is predicted to be: fraudulent')\n",
        "else: \n",
        "  print('Website is predicted to be: NOT fraudulent')\n",
        "\n",
        "if (Y_test[n] == 1):\n",
        "  print('The website is: fraudulent')\n",
        "else:\n",
        "  print('The website is: NOT fraudulent')\n",
        "\n",
        "preds[n]"
      ],
      "execution_count": null,
      "outputs": [
        {
          "output_type": "stream",
          "name": "stdout",
          "text": [
            "Website is predicted to be: fraudulent\n",
            "The website is: fraudulent\n"
          ]
        },
        {
          "output_type": "execute_result",
          "data": {
            "text/plain": [
              "array([0.999985], dtype=float32)"
            ]
          },
          "metadata": {},
          "execution_count": 35
        }
      ]
    },
    {
      "cell_type": "code",
      "metadata": {
        "id": "28Njo-HyT-rH"
      },
      "source": [
        "url_list_idx = tokenizer.texts_to_sequences(url_list)"
      ],
      "execution_count": null,
      "outputs": []
    },
    {
      "cell_type": "code",
      "metadata": {
        "id": "_Dj9f7VhUAkW"
      },
      "source": [
        "def add_score_predictions(data, url_list_idx):\n",
        "  url_list_idx = pad_sequences(url_list_idx, maxlen=maxLen, padding='post')\n",
        "  url_preds = model_conv.predict(url_list_idx)\n",
        "  data['fraudulent score'] = url_preds\n",
        "  pred_sentiment = np.array(list(map(lambda x: 'fraudulent' if x > 0.5 else 'not fraudulent', url_preds)))\n",
        "  data['predicted'] = 0\n",
        "  data['predicted'] = pred_sentiment\n",
        "  return data"
      ],
      "execution_count": null,
      "outputs": []
    },
    {
      "cell_type": "code",
      "metadata": {
        "id": "MjhRoR-lU82Q"
      },
      "source": [
        "data = add_score_predictions(url_list, url_list_idx)"
      ],
      "execution_count": null,
      "outputs": []
    },
    {
      "cell_type": "code",
      "metadata": {
        "colab": {
          "base_uri": "https://localhost:8080/"
        },
        "id": "mJcrNP0fU_rJ",
        "outputId": "02ea807c-698f-4366-c55e-e80dedb9c8e2"
      },
      "source": [
        "data"
      ],
      "execution_count": null,
      "outputs": [
        {
          "output_type": "execute_result",
          "data": {
            "text/plain": [
              "0                                                    br-icloud.com.br\n",
              "1                                 mp3raid.com/music/krizz_kaliko.html\n",
              "2                                     bopsecrets.org/rexroth/cr/1.htm\n",
              "3                   http://www.garage-pirenne.be/index.php?option=...\n",
              "4                   http://adventure-nicaragua.net/index.php?optio...\n",
              "                                          ...                        \n",
              "4996                vividseats.com/ncaab/big-12-tournament-tickets...\n",
              "4997                http://allegro.pl/listing/listing.php?id=20585...\n",
              "4998                                        mfhn.com/lalonde/i664.asp\n",
              "fraudulent score    [[0.98215526], [2.4065741e-06], [0.0026723146]...\n",
              "predicted           [fraudulent, not fraudulent, not fraudulent, f...\n",
              "Name: url, Length: 5001, dtype: object"
            ]
          },
          "metadata": {},
          "execution_count": 39
        }
      ]
    },
    {
      "cell_type": "code",
      "metadata": {
        "colab": {
          "base_uri": "https://localhost:8080/",
          "height": 265
        },
        "id": "sSQxA6cickGE",
        "outputId": "de3bf1c0-9589-48a2-8079-794cae6091b3"
      },
      "source": [
        "# # Load the TensorBoard notebook extension.\n",
        "# %load_ext tensorboard\n",
        "\n",
        "# from datetime import datetime\n",
        "# from packaging import version\n",
        "\n",
        "# import tensorflow as tf\n",
        "# from tensorflow import keras\n",
        "\n",
        "# print(\"TensorFlow version: \", tf.__version__)\n",
        "# assert version.parse(tf.__version__).release[0] >= 2, \\\n",
        "#     \"This notebook requires TensorFlow 2.0 or above.\"\n",
        "\n",
        "# import tensorboard\n",
        "# tensorboard.__version__\n",
        "\n",
        "# # Clear any logs from previous runs\n",
        "# !rm -rf ./logs/ \n",
        "\n",
        "\n",
        "import numpy as np\n",
        "from scipy import spatial\n",
        "import matplotlib.pyplot as plt\n",
        "from sklearn.manifold import TSNE\n",
        "\n",
        "tsne = TSNE(n_components=3,perplexity=40, early_exaggeration=80.0, random_state=0)\n",
        "\n",
        "words =  list(wMap.keys())\n",
        "vectors = [wMap[word] for word in words]\n",
        "Y = tsne.fit_transform(vectors[:150])\n",
        "plt.scatter(Y[:, 0], Y[:, 1])\n",
        "\n",
        "for label, x, y in zip(words, Y[:, 0], Y[:, 1]):\n",
        "    plt.annotate(label, xy=(x, y), xytext=(1, 1), textcoords=\"offset points\")\n",
        "plt.show()"
      ],
      "execution_count": null,
      "outputs": [
        {
          "output_type": "display_data",
          "data": {
            "image/png": "[encoded data removed]",
            "text/plain": [
              "<Figure size 432x288 with 1 Axes>"
            ]
          },
          "metadata": {
            "needs_background": "light"
          }
        }
      ]
    },
    {
      "cell_type": "code",
      "metadata": {
        "id": "qRfBJsrZntKt"
      },
      "source": [
        ""
      ],
      "execution_count": null,
      "outputs": []
    }
  ]
}
